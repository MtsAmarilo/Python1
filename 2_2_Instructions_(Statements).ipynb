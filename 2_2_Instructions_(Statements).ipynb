{
  "nbformat": 4,
  "nbformat_minor": 0,
  "metadata": {
    "colab": {
      "provenance": [],
      "authorship_tag": "ABX9TyNhDdY1C8dJd65qvlTFtRJw",
      "include_colab_link": true
    },
    "kernelspec": {
      "name": "python3",
      "display_name": "Python 3"
    },
    "language_info": {
      "name": "python"
    }
  },
  "cells": [
    {
      "cell_type": "markdown",
      "metadata": {
        "id": "view-in-github",
        "colab_type": "text"
      },
      "source": [
        "<a href=\"https://colab.research.google.com/github/MtsAmarilo/Python1/blob/main/2_2_Instructions_(Statements).ipynb\" target=\"_parent\"><img src=\"https://colab.research.google.com/assets/colab-badge.svg\" alt=\"Open In Colab\"/></a>"
      ]
    },
    {
      "cell_type": "markdown",
      "source": [
        "#Python par ligne, terminée par une nouvelle ligne :"
      ],
      "metadata": {
        "id": "oxnI_ZMmiNrp"
      }
    },
    {
      "cell_type": "code",
      "source": [
        ">>> x = 1     # Assigne 1 à la variable x\n",
        ">>> print(x)  # Affiche la valeur de x\n",
        "1\n",
        ">>> x + 1\n",
        "\n",
        ">>> y = x / 2\n",
        ">>> y\n"
      ],
      "metadata": {
        "colab": {
          "base_uri": "https://localhost:8080/"
        },
        "id": "55yLzH7JiPSx",
        "outputId": "15dbfa09-fcd7-4dd8-c61f-1564b41969e7"
      },
      "execution_count": 3,
      "outputs": [
        {
          "output_type": "stream",
          "name": "stdout",
          "text": [
            "1\n"
          ]
        },
        {
          "output_type": "execute_result",
          "data": {
            "text/plain": [
              "0.5"
            ]
          },
          "metadata": {},
          "execution_count": 3
        }
      ]
    },
    {
      "cell_type": "markdown",
      "source": [
        "#une seule ligne, séparées par un point-virgule :"
      ],
      "metadata": {
        "id": "ZqoCOlHsifDa"
      }
    },
    {
      "cell_type": "code",
      "source": [
        ">>> print(x); print(x+1); print(x+2)  # Pas de point-virgule à la fin\n"
      ],
      "metadata": {
        "colab": {
          "base_uri": "https://localhost:8080/"
        },
        "id": "lIVIjxUdig0C",
        "outputId": "9faa9639-6866-4918-a18b-0c6b1371df2e"
      },
      "execution_count": 2,
      "outputs": [
        {
          "output_type": "stream",
          "name": "stdout",
          "text": [
            "1\n",
            "2\n",
            "3\n"
          ]
        },
        {
          "output_type": "execute_result",
          "data": {
            "text/plain": [
              "3"
            ]
          },
          "metadata": {},
          "execution_count": 2
        }
      ]
    },
    {
      "cell_type": "markdown",
      "source": [
        "# entre crochets [] (liste) peut s'étendre sur plusieurs lignes :"
      ],
      "metadata": {
        "id": "EJsL2CYWioup"
      }
    },
    {
      "cell_type": "code",
      "source": [
        ">>> x = [1,\n",
        "         22,\n",
        "         333]  # Réaffecte une liste [v1, v2, ...] à la variable x\n",
        ">>> x\n"
      ],
      "metadata": {
        "colab": {
          "base_uri": "https://localhost:8080/"
        },
        "id": "NkP6xvwNi1PZ",
        "outputId": "c96cca4c-2e61-445b-8ca6-167ded7a89f7"
      },
      "execution_count": 5,
      "outputs": [
        {
          "output_type": "execute_result",
          "data": {
            "text/plain": [
              "[1, 22, 333]"
            ]
          },
          "metadata": {},
          "execution_count": 5
        }
      ]
    },
    {
      "cell_type": "markdown",
      "source": [
        "#entre accolades {} (dictionnaire) peut aussi s'étendre sur plusieurs lignes"
      ],
      "metadata": {
        "id": "1KgB4qpYjIRx"
      }
    },
    {
      "cell_type": "code",
      "source": [
        ">>> x = {'nom': 'Pierre',\n",
        "         'genre': 'masculin',\n",
        "         'âge': 21\n",
        "        }   # Réaffecte un dictionnaire {clé1:valeur1, clé2:valeur2,...} à la variable x\n",
        ">>> x"
      ],
      "metadata": {
        "colab": {
          "base_uri": "https://localhost:8080/"
        },
        "id": "EjxFuYyDjJzJ",
        "outputId": "b3c84849-7300-4c85-e981-64831703384c"
      },
      "execution_count": 7,
      "outputs": [
        {
          "output_type": "execute_result",
          "data": {
            "text/plain": [
              "{'nom': 'Pierre', 'genre': 'masculin', 'âge': 21}"
            ]
          },
          "metadata": {},
          "execution_count": 7
        }
      ]
    },
    {
      "cell_type": "markdown",
      "source": [
        "#entre parenthèses () peut aussi s'étendre sur plusieurs ligne"
      ],
      "metadata": {
        "id": "Xr8Y0ld7jWgx"
      }
    },
    {
      "cell_type": "code",
      "source": [
        ">>> x = (1 +\n",
        "        2\n",
        "        + 3\n",
        "        -\n",
        "        4)\n",
        ">>> x"
      ],
      "metadata": {
        "colab": {
          "base_uri": "https://localhost:8080/"
        },
        "id": "sT61x5PJjXux",
        "outputId": "4fb12db8-be50-45a4-e695-3dccbef07f08"
      },
      "execution_count": 8,
      "outputs": [
        {
          "output_type": "execute_result",
          "data": {
            "text/plain": [
              "2"
            ]
          },
          "metadata": {},
          "execution_count": 8
        }
      ]
    },
    {
      "cell_type": "markdown",
      "source": [
        "# chaîne de caractères longue peut être fractionnée sur plusieurs lignes avec des parenthèses () :"
      ],
      "metadata": {
        "id": "JbfrP7Kvjg7R"
      }
    },
    {
      "cell_type": "code",
      "source": [
        ">>> s = ('test '   # Pas de virgules entre les morceaux\n",
        "         'bonjour, '\n",
        "         'monde !')\n",
        ">>> s"
      ],
      "metadata": {
        "colab": {
          "base_uri": "https://localhost:8080/",
          "height": 35
        },
        "id": "2YW7VJbxjigI",
        "outputId": "75846898-657d-4238-c1fd-96091fa4d78b"
      },
      "execution_count": 9,
      "outputs": [
        {
          "output_type": "execute_result",
          "data": {
            "text/plain": [
              "'test bonjour, monde !'"
            ],
            "application/vnd.google.colaboratory.intrinsic+json": {
              "type": "string"
            }
          },
          "metadata": {},
          "execution_count": 9
        }
      ]
    }
  ]
}