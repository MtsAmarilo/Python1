{
  "nbformat": 4,
  "nbformat_minor": 0,
  "metadata": {
    "colab": {
      "provenance": [],
      "authorship_tag": "ABX9TyMlfr3nn9pWDQP/mwX91VGZ",
      "include_colab_link": true
    },
    "kernelspec": {
      "name": "python3",
      "display_name": "Python 3"
    },
    "language_info": {
      "name": "python"
    }
  },
  "cells": [
    {
      "cell_type": "markdown",
      "metadata": {
        "id": "view-in-github",
        "colab_type": "text"
      },
      "source": [
        "<a href=\"https://colab.research.google.com/github/MtsAmarilo/Python1/blob/main/3_1_Types_de_Donn%C3%A9es_en_Python_Nombres%2C_Cha%C3%AEnes_et_Listes.ipynb\" target=\"_parent\"><img src=\"https://colab.research.google.com/assets/colab-badge.svg\" alt=\"Open In Colab\"/></a>"
      ]
    },
    {
      "cell_type": "markdown",
      "source": [
        "#Exemples de manipulation de nombres"
      ],
      "metadata": {
        "id": "hf9-ADJbm50M"
      }
    },
    {
      "cell_type": "code",
      "source": [
        "x = 10       # Un entier (int)\n",
        "\n",
        "y = 3.14     # Un flottant (float)\n",
        "\n",
        "z = True     # Un booléen (bool)\n",
        "\n",
        "\n",
        "\n",
        "# Affichage des types\n",
        "\n",
        "print(type(x))  # <class 'int'>\n",
        "\n",
        "print(type(y))  # <class 'float'>\n",
        "\n",
        "print(type(z))  # <class 'bool'>"
      ],
      "metadata": {
        "colab": {
          "base_uri": "https://localhost:8080/"
        },
        "id": "NEDlUb9sm8Sc",
        "outputId": "eb8a6d7d-8390-4ed8-cb50-2d707fcd90a2"
      },
      "execution_count": 1,
      "outputs": [
        {
          "output_type": "stream",
          "name": "stdout",
          "text": [
            "<class 'int'>\n",
            "<class 'float'>\n",
            "<class 'bool'>\n"
          ]
        }
      ]
    },
    {
      "cell_type": "markdown",
      "source": [
        "#Exemples de manipulation de chaînes"
      ],
      "metadata": {
        "id": "C6qFSDLInCgl"
      }
    },
    {
      "cell_type": "code",
      "source": [
        "# Déclaration de chaînes\n",
        "\n",
        "s1 = 'Bonjour'\n",
        "\n",
        "s2 = \"Python\"\n",
        "\n",
        "s3 = '''Chaîne\n",
        "\n",
        "sur plusieurs\n",
        "\n",
        "lignes'''\n",
        "\n",
        "\n",
        "\n",
        "# Affichage des chaînes\n",
        "\n",
        "print(s1)  # Bonjour\n",
        "\n",
        "print(s2)  # Python\n",
        "\n",
        "print(s3)  # Affiche la chaîne sur plusieurs lignes\n",
        "\n",
        "\n",
        "\n",
        "# Vérification du type\n",
        "\n",
        "print(type(s1))  # <class 'str'>"
      ],
      "metadata": {
        "colab": {
          "base_uri": "https://localhost:8080/"
        },
        "id": "ZcgeaI-2nHAM",
        "outputId": "30142b3a-b69b-4319-8695-b0b2703dbf60"
      },
      "execution_count": 2,
      "outputs": [
        {
          "output_type": "stream",
          "name": "stdout",
          "text": [
            "Bonjour\n",
            "Python\n",
            "Chaîne\n",
            "\n",
            "sur plusieurs\n",
            "\n",
            "lignes\n",
            "<class 'str'>\n"
          ]
        }
      ]
    },
    {
      "cell_type": "markdown",
      "source": [
        "#Exemples de manipulation de listes"
      ],
      "metadata": {
        "id": "sckZ4YWPnfq1"
      }
    },
    {
      "cell_type": "code",
      "source": [
        "# Création d'une liste\n",
        "\n",
        "lst = [10, \"Python\", 3.14, True]\n",
        "\n",
        "\n",
        "\n",
        "# Accès aux éléments\n",
        "\n",
        "print(lst[0])  # 10\n",
        "\n",
        "print(lst[1])  # Python\n",
        "\n",
        "print(lst[2])  # 3.14\n",
        "\n",
        "\n",
        "\n",
        "# Vérification du type\n",
        "\n",
        "print(type(lst))  # <class 'list'>\n",
        "\n",
        "\n",
        "\n",
        "# Modification d'un élément\n",
        "\n",
        "lst[1] = \"Programmation\"\n",
        "\n",
        "\n",
        "\n",
        "# Ajout d'un élément\n",
        "\n",
        "lst.append(42)\n",
        "\n",
        "\n",
        "\n",
        "# Suppression d'un élément\n",
        "\n",
        "del lst[2]\n",
        "\n",
        "\n",
        "\n",
        "print(lst)  # Liste modifiée"
      ],
      "metadata": {
        "colab": {
          "base_uri": "https://localhost:8080/"
        },
        "id": "cCUaboDknifk",
        "outputId": "dff55825-97e5-41d2-c0d5-5751e7a5b5fc"
      },
      "execution_count": 3,
      "outputs": [
        {
          "output_type": "stream",
          "name": "stdout",
          "text": [
            "10\n",
            "Python\n",
            "3.14\n",
            "<class 'list'>\n",
            "[10, 'Programmation', True, 42]\n"
          ]
        }
      ]
    }
  ]
}