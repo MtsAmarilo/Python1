{
  "nbformat": 4,
  "nbformat_minor": 0,
  "metadata": {
    "colab": {
      "provenance": [],
      "authorship_tag": "ABX9TyP64USeD7nEPmPZr2w7JLWf",
      "include_colab_link": true
    },
    "kernelspec": {
      "name": "python3",
      "display_name": "Python 3"
    },
    "language_info": {
      "name": "python"
    }
  },
  "cells": [
    {
      "cell_type": "markdown",
      "metadata": {
        "id": "view-in-github",
        "colab_type": "text"
      },
      "source": [
        "<a href=\"https://colab.research.google.com/github/beatrizlpssss/Python1/blob/main/Exercices_Python_1.ipynb\" target=\"_parent\"><img src=\"https://colab.research.google.com/assets/colab-badge.svg\" alt=\"Open In Colab\"/></a>"
      ]
    },
    {
      "cell_type": "markdown",
      "source": [
        "#1) Afficher “Bonjour”\n",
        "- Objectif : afficher un texte.\n",
        "- Étapes : ouvre un notebook → écris print(\"Bonjour\") → exécute.\n",
        "- Indice : print(...) affiche à l’écran.\n",
        "- Exemple attendu : Bonjour"
      ],
      "metadata": {
        "id": "JUjns6GgZzQ1"
      }
    },
    {
      "cell_type": "code",
      "source": [
        "print('bonjour')"
      ],
      "metadata": {
        "colab": {
          "base_uri": "https://localhost:8080/"
        },
        "id": "mFT7plpHZ5Z-",
        "outputId": "f7ec2f10-8886-4152-a540-2e7db4d71cb2"
      },
      "execution_count": 14,
      "outputs": [
        {
          "output_type": "stream",
          "name": "stdout",
          "text": [
            "bonjour\n"
          ]
        }
      ]
    },
    {
      "cell_type": "markdown",
      "source": [
        "#2) Afficher ton prénom\n",
        "- Objectif : afficher ton prénom.\n",
        "- Étapes : remplace “Alice” par ton prénom.\n",
        "- Indice : guillemets pour du texte.\n",
        "- Exemple : print(\"Haythem\")"
      ],
      "metadata": {
        "id": "08DcQqmbaAUF"
      }
    },
    {
      "cell_type": "code",
      "source": [
        "print('Matheus')"
      ],
      "metadata": {
        "colab": {
          "base_uri": "https://localhost:8080/"
        },
        "id": "ypxdAtXKaNYd",
        "outputId": "61974c86-ed5b-4f98-e30a-ee88953ed18f"
      },
      "execution_count": 15,
      "outputs": [
        {
          "output_type": "stream",
          "name": "stdout",
          "text": [
            "Matheus\n"
          ]
        }
      ]
    },
    {
      "cell_type": "markdown",
      "source": [
        "#3) Deux lignes d’affichage\n",
        "- Objectif : afficher deux lignes.\n",
        "\n",
        "- Étapes : deux print(...) l’un sous l’autre.\n",
        "\n",
        "- Indice : chaque print fait une nouvelle ligne.\n",
        "\n",
        "- Exemple :\n",
        "\n",
        "Bonjour\n",
        "Python"
      ],
      "metadata": {
        "id": "uRsuUESjaeEF"
      }
    },
    {
      "cell_type": "code",
      "source": [
        "print('Bonjour\\npython')"
      ],
      "metadata": {
        "colab": {
          "base_uri": "https://localhost:8080/"
        },
        "id": "4KJMpQQIh1jc",
        "outputId": "ac1608e7-1bd5-4ff3-8edb-b0c41e16dd8c"
      },
      "execution_count": 59,
      "outputs": [
        {
          "output_type": "stream",
          "name": "stdout",
          "text": [
            "Bonjour\n",
            "python\n"
          ]
        }
      ]
    },
    {
      "cell_type": "code",
      "source": [
        "print('bonjour')\n",
        "print('python')\n"
      ],
      "metadata": {
        "colab": {
          "base_uri": "https://localhost:8080/"
        },
        "id": "XeHmQq-Waket",
        "outputId": "b0d7726b-fc8d-4997-9ea1-a784ceadcff3"
      },
      "execution_count": 27,
      "outputs": [
        {
          "output_type": "stream",
          "name": "stdout",
          "text": [
            "bonjour\n",
            "python\n"
          ]
        }
      ]
    },
    {
      "cell_type": "markdown",
      "source": [
        "#4) Calcul simple\n",
        "- Objectif : afficher 2 + 3.\n",
        "- Étapes : print(2 + 3).\n",
        "- Indice : pas de guillemets pour un nombre.\n",
        "- Attendu : 5"
      ],
      "metadata": {
        "id": "2ocUN7I6b4vs"
      }
    },
    {
      "cell_type": "code",
      "source": [
        "print(3+3)"
      ],
      "metadata": {
        "colab": {
          "base_uri": "https://localhost:8080/"
        },
        "id": "7TWo4lFHb_aj",
        "outputId": "25eb8634-fa2c-4462-807c-cb046496ac7c"
      },
      "execution_count": 31,
      "outputs": [
        {
          "output_type": "stream",
          "name": "stdout",
          "text": [
            "6\n"
          ]
        }
      ]
    },
    {
      "cell_type": "markdown",
      "source": [
        "#5) Texte + résultat\n",
        "- Objectif : afficher 2+3= puis le résultat.\n",
        "- Étapes : print(\"2+3=\", 2+3).\n",
        "- Indice : on peut passer plusieurs éléments à print.\n",
        "- Attendu : 2+3= 5"
      ],
      "metadata": {
        "id": "kvj535L8cQmz"
      }
    },
    {
      "cell_type": "code",
      "source": [
        "print('2+3=', 2+3)"
      ],
      "metadata": {
        "colab": {
          "base_uri": "https://localhost:8080/"
        },
        "id": "UBvmyUbRcejq",
        "outputId": "2d49c391-645d-4eb7-fd31-937b0ffaebe4"
      },
      "execution_count": 32,
      "outputs": [
        {
          "output_type": "stream",
          "name": "stdout",
          "text": [
            "2+3= 5\n"
          ]
        }
      ]
    },
    {
      "cell_type": "markdown",
      "source": [
        "#6) Variable nombre\n",
        "- Objectif : créer une variable x=7 et l’afficher.\n",
        "- Étapes : x = 7 puis print(x).\n",
        "- Indice : = assigne une valeur.\n",
        "- Attendu : 7"
      ],
      "metadata": {
        "id": "qhrLmTxhckez"
      }
    },
    {
      "cell_type": "code",
      "source": [
        "x=7\n",
        "print(x)"
      ],
      "metadata": {
        "colab": {
          "base_uri": "https://localhost:8080/"
        },
        "id": "yBQyEnJ9cwYi",
        "outputId": "06c09108-2583-46ac-cece-c8ebfd3783d6"
      },
      "execution_count": 33,
      "outputs": [
        {
          "output_type": "stream",
          "name": "stdout",
          "text": [
            "7\n"
          ]
        }
      ]
    },
    {
      "cell_type": "markdown",
      "source": [
        "#7) Variable texte\n",
        "- Objectif : nom = \"Nadia\" puis afficher.\n",
        "- Étapes : créer puis print(nom).\n",
        "- Indice : guillemets pour le texte.\n",
        "- Attendu : Nadia"
      ],
      "metadata": {
        "id": "rUlXzYk0g_X9"
      }
    },
    {
      "cell_type": "code",
      "source": [
        "nom='Matheus'\n",
        "print(nom)"
      ],
      "metadata": {
        "colab": {
          "base_uri": "https://localhost:8080/"
        },
        "id": "zAp6s_pXdFIy",
        "outputId": "67b473ac-08a8-4c25-b020-a857214c84c7"
      },
      "execution_count": 57,
      "outputs": [
        {
          "output_type": "stream",
          "name": "stdout",
          "text": [
            "Matheus\n"
          ]
        }
      ]
    },
    {
      "cell_type": "markdown",
      "source": [
        "#8) Addition avec variables\n",
        "- Objectif : a=4, b=6, afficher a+b.\n",
        "- Étapes : créer, puis print(a+b).\n",
        "- Indice : variables numériques s’additionnent.\n",
        "- Attendu : 10"
      ],
      "metadata": {
        "id": "oc_PBRaYdO8C"
      }
    },
    {
      "cell_type": "code",
      "source": [
        "a=6\n",
        "b=10\n",
        "print(a+b)"
      ],
      "metadata": {
        "colab": {
          "base_uri": "https://localhost:8080/"
        },
        "id": "fA73aS85eTxQ",
        "outputId": "d828976e-f9c0-4c92-eb84-38f806f61412"
      },
      "execution_count": 45,
      "outputs": [
        {
          "output_type": "stream",
          "name": "stdout",
          "text": [
            "16\n"
          ]
        }
      ]
    },
    {
      "cell_type": "markdown",
      "source": [
        "#9) Lire un prénom (input)\n",
        "- Objectif : demander un prénom et l’afficher.\n",
        "- Étapes : nom = input(\"Prénom: \"); print(\"Bonjour\", nom).\n",
        "- Indice : input lit au clavier.\n",
        "- Attendu : Bonjour Karim"
      ],
      "metadata": {
        "id": "0Q3ZFm7Dee14"
      }
    },
    {
      "cell_type": "code",
      "source": [
        "nom= input('Prenom: ')\n",
        "print('bonjour,', nom)"
      ],
      "metadata": {
        "colab": {
          "base_uri": "https://localhost:8080/"
        },
        "id": "5HbKDTDkekcI",
        "outputId": "ad2319a5-b6b3-4e3f-98de-b789d36f95bd"
      },
      "execution_count": 49,
      "outputs": [
        {
          "output_type": "stream",
          "name": "stdout",
          "text": [
            "Prenom: Matheus\n",
            "bonjour, Matheus\n"
          ]
        }
      ]
    },
    {
      "cell_type": "markdown",
      "source": [
        "#10) Somme de deux nombres (input)\n",
        "- Objectif : lire deux nombres et afficher la somme.\n",
        "- Étapes : a = int(input(...)); b = int(input(...)); print(a+b).\n",
        "- Indice : int(...) transforme en entier.\n",
        "- Attendu : si 3 et 8 → 11"
      ],
      "metadata": {
        "id": "yECE6CP9fE7H"
      }
    },
    {
      "cell_type": "code",
      "source": [
        "a=int(input('Nombre:'))\n",
        "b=int(input('Nombre:'))\n",
        "print(a+b)"
      ],
      "metadata": {
        "colab": {
          "base_uri": "https://localhost:8080/"
        },
        "id": "vYWNDhgqfNSo",
        "outputId": "cb2b9bef-d754-40ab-f0f1-77a8c8b22b75"
      },
      "execution_count": 51,
      "outputs": [
        {
          "output_type": "stream",
          "name": "stdout",
          "text": [
            "Nombre:123456789\n",
            "Nombre:987654321\n",
            "1111111110\n"
          ]
        }
      ]
    },
    {
      "cell_type": "markdown",
      "source": [
        "#11) Multiplication\n",
        "- Objectif : lire un nombre et afficher ×10.\n",
        "- Étapes : n=int(input(...)); print(n*10).\n",
        "- Indice : * multiplie.\n",
        "- Attendu : si 4 → 40"
      ],
      "metadata": {
        "id": "s3Ka9porfrGX"
      }
    },
    {
      "cell_type": "code",
      "source": [
        "a=int(input('Nombre:'))\n",
        "print(a*10)"
      ],
      "metadata": {
        "colab": {
          "base_uri": "https://localhost:8080/"
        },
        "id": "r58YQsQcf0zv",
        "outputId": "dac09f6f-42e3-487f-e7c1-fa51ce59f9eb"
      },
      "execution_count": 52,
      "outputs": [
        {
          "output_type": "stream",
          "name": "stdout",
          "text": [
            "Nombre:30\n",
            "300\n"
          ]
        }
      ]
    },
    {
      "cell_type": "markdown",
      "source": [
        "#12) Aire d’un rectangle\n",
        "- Objectif : lire largeur/hauteur et afficher L*H.\n",
        "- Étapes : L=int(input(...)); H=int(input(...)); print(L*H).\n",
        "- Indice : produit.\n",
        "- Attendu : 5 et 3 → 15"
      ],
      "metadata": {
        "id": "Xi48MvhOgCim"
      }
    },
    {
      "cell_type": "code",
      "source": [
        "H=int(input('Nombre:'))\n",
        "L=int(input('Nombre:'))\n",
        "print(H*L)"
      ],
      "metadata": {
        "colab": {
          "base_uri": "https://localhost:8080/"
        },
        "id": "96_vJtFcgLXO",
        "outputId": "875b14a0-135a-4d44-ca07-09ae8b493ceb"
      },
      "execution_count": 56,
      "outputs": [
        {
          "output_type": "stream",
          "name": "stdout",
          "text": [
            "Nombre:180\n",
            "Nombre:809\n",
            "145620\n"
          ]
        }
      ]
    }
  ]
}