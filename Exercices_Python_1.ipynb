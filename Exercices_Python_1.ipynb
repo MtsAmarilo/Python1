{
  "nbformat": 4,
  "nbformat_minor": 0,
  "metadata": {
    "colab": {
      "provenance": [],
      "authorship_tag": "ABX9TyPG4uxk8yJWpWEc56Gf0pHN",
      "include_colab_link": true
    },
    "kernelspec": {
      "name": "python3",
      "display_name": "Python 3"
    },
    "language_info": {
      "name": "python"
    }
  },
  "cells": [
    {
      "cell_type": "markdown",
      "metadata": {
        "id": "view-in-github",
        "colab_type": "text"
      },
      "source": [
        "<a href=\"https://colab.research.google.com/github/MtsAmarilo/Python1/blob/main/Exercices_Python_1.ipynb\" target=\"_parent\"><img src=\"https://colab.research.google.com/assets/colab-badge.svg\" alt=\"Open In Colab\"/></a>"
      ]
    },
    {
      "cell_type": "markdown",
      "source": [
        "#1) Afficher “Bonjour”\n",
        "- Objectif : afficher un texte.\n",
        "- Étapes : ouvre un notebook → écris print(\"Bonjour\") → exécute.\n",
        "- Indice : print(...) affiche à l’écran.\n",
        "- Exemple attendu : Bonjour"
      ],
      "metadata": {
        "id": "JUjns6GgZzQ1"
      }
    },
    {
      "cell_type": "code",
      "source": [
        "print('bonjour')"
      ],
      "metadata": {
        "colab": {
          "base_uri": "https://localhost:8080/"
        },
        "id": "mFT7plpHZ5Z-",
        "outputId": "f7ec2f10-8886-4152-a540-2e7db4d71cb2"
      },
      "execution_count": null,
      "outputs": [
        {
          "output_type": "stream",
          "name": "stdout",
          "text": [
            "bonjour\n"
          ]
        }
      ]
    },
    {
      "cell_type": "markdown",
      "source": [
        "#2) Afficher ton prénom\n",
        "- Objectif : afficher ton prénom.\n",
        "- Étapes : remplace “Alice” par ton prénom.\n",
        "- Indice : guillemets pour du texte.\n",
        "- Exemple : print(\"Haythem\")"
      ],
      "metadata": {
        "id": "08DcQqmbaAUF"
      }
    },
    {
      "cell_type": "code",
      "source": [
        "print('Matheus')"
      ],
      "metadata": {
        "colab": {
          "base_uri": "https://localhost:8080/"
        },
        "id": "ypxdAtXKaNYd",
        "outputId": "61974c86-ed5b-4f98-e30a-ee88953ed18f"
      },
      "execution_count": null,
      "outputs": [
        {
          "output_type": "stream",
          "name": "stdout",
          "text": [
            "Matheus\n"
          ]
        }
      ]
    },
    {
      "cell_type": "markdown",
      "source": [
        "#3) Deux lignes d’affichage\n",
        "- Objectif : afficher deux lignes.\n",
        "\n",
        "- Étapes : deux print(...) l’un sous l’autre.\n",
        "\n",
        "- Indice : chaque print fait une nouvelle ligne.\n",
        "\n",
        "- Exemple :\n",
        "\n",
        "Bonjour\n",
        "Python"
      ],
      "metadata": {
        "id": "uRsuUESjaeEF"
      }
    },
    {
      "cell_type": "code",
      "source": [
        "print('Bonjour\\npython')"
      ],
      "metadata": {
        "colab": {
          "base_uri": "https://localhost:8080/"
        },
        "id": "4KJMpQQIh1jc",
        "outputId": "ac1608e7-1bd5-4ff3-8edb-b0c41e16dd8c"
      },
      "execution_count": null,
      "outputs": [
        {
          "output_type": "stream",
          "name": "stdout",
          "text": [
            "Bonjour\n",
            "python\n"
          ]
        }
      ]
    },
    {
      "cell_type": "code",
      "source": [
        "print('bonjour')\n",
        "print('python')\n"
      ],
      "metadata": {
        "colab": {
          "base_uri": "https://localhost:8080/"
        },
        "id": "XeHmQq-Waket",
        "outputId": "b0d7726b-fc8d-4997-9ea1-a784ceadcff3"
      },
      "execution_count": null,
      "outputs": [
        {
          "output_type": "stream",
          "name": "stdout",
          "text": [
            "bonjour\n",
            "python\n"
          ]
        }
      ]
    },
    {
      "cell_type": "markdown",
      "source": [
        "#4) Calcul simple\n",
        "- Objectif : afficher 2 + 3.\n",
        "- Étapes : print(2 + 3).\n",
        "- Indice : pas de guillemets pour un nombre.\n",
        "- Attendu : 5"
      ],
      "metadata": {
        "id": "2ocUN7I6b4vs"
      }
    },
    {
      "cell_type": "code",
      "source": [
        "print(3+3)"
      ],
      "metadata": {
        "colab": {
          "base_uri": "https://localhost:8080/"
        },
        "id": "7TWo4lFHb_aj",
        "outputId": "25eb8634-fa2c-4462-807c-cb046496ac7c"
      },
      "execution_count": null,
      "outputs": [
        {
          "output_type": "stream",
          "name": "stdout",
          "text": [
            "6\n"
          ]
        }
      ]
    },
    {
      "cell_type": "markdown",
      "source": [
        "#5) Texte + résultat\n",
        "- Objectif : afficher 2+3= puis le résultat.\n",
        "- Étapes : print(\"2+3=\", 2+3).\n",
        "- Indice : on peut passer plusieurs éléments à print.\n",
        "- Attendu : 2+3= 5"
      ],
      "metadata": {
        "id": "kvj535L8cQmz"
      }
    },
    {
      "cell_type": "code",
      "source": [
        "print('2+3=', 2+3)"
      ],
      "metadata": {
        "colab": {
          "base_uri": "https://localhost:8080/"
        },
        "id": "UBvmyUbRcejq",
        "outputId": "2d49c391-645d-4eb7-fd31-937b0ffaebe4"
      },
      "execution_count": null,
      "outputs": [
        {
          "output_type": "stream",
          "name": "stdout",
          "text": [
            "2+3= 5\n"
          ]
        }
      ]
    },
    {
      "cell_type": "markdown",
      "source": [
        "#6) Variable nombre\n",
        "- Objectif : créer une variable x=7 et l’afficher.\n",
        "- Étapes : x = 7 puis print(x).\n",
        "- Indice : = assigne une valeur.\n",
        "- Attendu : 7"
      ],
      "metadata": {
        "id": "qhrLmTxhckez"
      }
    },
    {
      "cell_type": "code",
      "source": [
        "x=7\n",
        "print(x)"
      ],
      "metadata": {
        "colab": {
          "base_uri": "https://localhost:8080/"
        },
        "id": "yBQyEnJ9cwYi",
        "outputId": "06c09108-2583-46ac-cece-c8ebfd3783d6"
      },
      "execution_count": null,
      "outputs": [
        {
          "output_type": "stream",
          "name": "stdout",
          "text": [
            "7\n"
          ]
        }
      ]
    },
    {
      "cell_type": "markdown",
      "source": [
        "#7) Variable texte\n",
        "- Objectif : nom = \"Nadia\" puis afficher.\n",
        "- Étapes : créer puis print(nom).\n",
        "- Indice : guillemets pour le texte.\n",
        "- Attendu : Nadia"
      ],
      "metadata": {
        "id": "rUlXzYk0g_X9"
      }
    },
    {
      "cell_type": "code",
      "source": [
        "nom='Matheus'\n",
        "print(nom)"
      ],
      "metadata": {
        "colab": {
          "base_uri": "https://localhost:8080/"
        },
        "id": "zAp6s_pXdFIy",
        "outputId": "67b473ac-08a8-4c25-b020-a857214c84c7"
      },
      "execution_count": null,
      "outputs": [
        {
          "output_type": "stream",
          "name": "stdout",
          "text": [
            "Matheus\n"
          ]
        }
      ]
    },
    {
      "cell_type": "markdown",
      "source": [
        "#8) Addition avec variables\n",
        "- Objectif : a=4, b=6, afficher a+b.\n",
        "- Étapes : créer, puis print(a+b).\n",
        "- Indice : variables numériques s’additionnent.\n",
        "- Attendu : 10"
      ],
      "metadata": {
        "id": "oc_PBRaYdO8C"
      }
    },
    {
      "cell_type": "code",
      "source": [
        "a=6\n",
        "b=10\n",
        "print(a+b)"
      ],
      "metadata": {
        "colab": {
          "base_uri": "https://localhost:8080/"
        },
        "id": "fA73aS85eTxQ",
        "outputId": "d828976e-f9c0-4c92-eb84-38f806f61412"
      },
      "execution_count": null,
      "outputs": [
        {
          "output_type": "stream",
          "name": "stdout",
          "text": [
            "16\n"
          ]
        }
      ]
    },
    {
      "cell_type": "markdown",
      "source": [
        "#9) Lire un prénom (input)\n",
        "- Objectif : demander un prénom et l’afficher.\n",
        "- Étapes : nom = input(\"Prénom: \"); print(\"Bonjour\", nom).\n",
        "- Indice : input lit au clavier.\n",
        "- Attendu : Bonjour Karim"
      ],
      "metadata": {
        "id": "0Q3ZFm7Dee14"
      }
    },
    {
      "cell_type": "code",
      "source": [
        "nom= input('Prenom: ')\n",
        "print('bonjour,', nom)"
      ],
      "metadata": {
        "colab": {
          "base_uri": "https://localhost:8080/"
        },
        "id": "5HbKDTDkekcI",
        "outputId": "ad2319a5-b6b3-4e3f-98de-b789d36f95bd"
      },
      "execution_count": null,
      "outputs": [
        {
          "output_type": "stream",
          "name": "stdout",
          "text": [
            "Prenom: Matheus\n",
            "bonjour, Matheus\n"
          ]
        }
      ]
    },
    {
      "cell_type": "markdown",
      "source": [
        "#10) Somme de deux nombres (input)\n",
        "- Objectif : lire deux nombres et afficher la somme.\n",
        "- Étapes : a = int(input(...)); b = int(input(...)); print(a+b).\n",
        "- Indice : int(...) transforme en entier.\n",
        "- Attendu : si 3 et 8 → 11"
      ],
      "metadata": {
        "id": "yECE6CP9fE7H"
      }
    },
    {
      "cell_type": "code",
      "source": [
        "a=int(input('Nombre:'))\n",
        "b=int(input('Nombre:'))\n",
        "print(a+b)"
      ],
      "metadata": {
        "colab": {
          "base_uri": "https://localhost:8080/"
        },
        "id": "vYWNDhgqfNSo",
        "outputId": "cb2b9bef-d754-40ab-f0f1-77a8c8b22b75"
      },
      "execution_count": null,
      "outputs": [
        {
          "output_type": "stream",
          "name": "stdout",
          "text": [
            "Nombre:123456789\n",
            "Nombre:987654321\n",
            "1111111110\n"
          ]
        }
      ]
    },
    {
      "cell_type": "markdown",
      "source": [
        "#11) Multiplication\n",
        "- Objectif : lire un nombre et afficher ×10.\n",
        "- Étapes : n=int(input(...)); print(n*10).\n",
        "- Indice : * multiplie.\n",
        "- Attendu : si 4 → 40"
      ],
      "metadata": {
        "id": "s3Ka9porfrGX"
      }
    },
    {
      "cell_type": "code",
      "source": [
        "a=int(input('Nombre:'))\n",
        "print(a*10)"
      ],
      "metadata": {
        "colab": {
          "base_uri": "https://localhost:8080/"
        },
        "id": "r58YQsQcf0zv",
        "outputId": "dac09f6f-42e3-487f-e7c1-fa51ce59f9eb"
      },
      "execution_count": null,
      "outputs": [
        {
          "output_type": "stream",
          "name": "stdout",
          "text": [
            "Nombre:30\n",
            "300\n"
          ]
        }
      ]
    },
    {
      "cell_type": "markdown",
      "source": [
        "#12) Aire d’un rectangle\n",
        "- Objectif : lire largeur/hauteur et afficher L*H.\n",
        "- Étapes : L=int(input(...)); H=int(input(...)); print(L*H).\n",
        "- Indice : produit.\n",
        "- Attendu : 5 et 3 → 15"
      ],
      "metadata": {
        "id": "Xi48MvhOgCim"
      }
    },
    {
      "cell_type": "code",
      "source": [
        "H=int(input('Nombre:'))\n",
        "L=int(input('Nombre:'))\n",
        "print(H*L)"
      ],
      "metadata": {
        "colab": {
          "base_uri": "https://localhost:8080/"
        },
        "id": "96_vJtFcgLXO",
        "outputId": "875b14a0-135a-4d44-ca07-09ae8b493ceb"
      },
      "execution_count": null,
      "outputs": [
        {
          "output_type": "stream",
          "name": "stdout",
          "text": [
            "Nombre:180\n",
            "Nombre:809\n",
            "145620\n"
          ]
        }
      ]
    },
    {
      "cell_type": "markdown",
      "source": [
        "#13) Concaténer texte\n",
        "- Objectif : afficher Bonjour, NOM !.\n",
        "- Étapes : nom=input(...); print(\"Bonjour, \" + nom + \"!\").\n",
        "- Indice : + colle des textes.\n",
        "- Attendu : Bonjour, Aya!"
      ],
      "metadata": {
        "id": "zaUeJlYsyfzk"
      }
    },
    {
      "cell_type": "code",
      "source": [
        "nom=input('Nom:')\n",
        "print('Bonjour, '+ nom + \"!\")"
      ],
      "metadata": {
        "id": "mSDFfdjaykuM",
        "colab": {
          "base_uri": "https://localhost:8080/"
        },
        "outputId": "2fa48665-ced3-4f34-94ee-ecd42b15b5da"
      },
      "execution_count": null,
      "outputs": [
        {
          "output_type": "stream",
          "name": "stdout",
          "text": [
            "Nom:Matheus\n",
            "Bonjour, Matheus!\n"
          ]
        }
      ]
    },
    {
      "cell_type": "markdown",
      "source": [
        "#14) Longueur d’un mot\n",
        "- Objectif : lire un mot et afficher sa longueur.\n",
        "- Étapes : mot=input(...); print(len(mot)).\n",
        "- Indice : len(...) donne la longueur.\n",
        "- Attendu : “chat” → 4"
      ],
      "metadata": {
        "id": "wGf0opU4S3G0"
      }
    },
    {
      "cell_type": "code",
      "source": [
        "mot=input('Mot: ')\n",
        "print(len(mot))"
      ],
      "metadata": {
        "colab": {
          "base_uri": "https://localhost:8080/"
        },
        "id": "zHY1CHTJr0Q1",
        "outputId": "c0f96adc-b428-4cd0-f0a4-7f608227013a"
      },
      "execution_count": 1,
      "outputs": [
        {
          "output_type": "stream",
          "name": "stdout",
          "text": [
            "Mot: Matheus\n",
            "7\n"
          ]
        }
      ]
    },
    {
      "cell_type": "markdown",
      "source": [
        "#15) Majuscules\n",
        "- Objectif : lire un mot et l’afficher en MAJ.\n",
        "- Étapes : mot=input(...); print(mot.upper()).\n",
        "- Indice : .upper().\n",
        "- Attendu : “salut” → SALUT"
      ],
      "metadata": {
        "id": "luWeKnmrsTfE"
      }
    },
    {
      "cell_type": "code",
      "source": [
        "mot = input('Mot: ')\n",
        "print(mot.upper())"
      ],
      "metadata": {
        "colab": {
          "base_uri": "https://localhost:8080/"
        },
        "id": "jhoRcgZrsXA0",
        "outputId": "2dca41ea-c64d-427d-d299-d688ca424484"
      },
      "execution_count": 2,
      "outputs": [
        {
          "output_type": "stream",
          "name": "stdout",
          "text": [
            "Mot: Matheus\n",
            "MATHEUS\n"
          ]
        }
      ]
    },
    {
      "cell_type": "markdown",
      "source": [
        "#16) Minuscules\n",
        "- Objectif : lire et afficher en minuscules.\n",
        "- Étapes : .lower().\n",
        "- Indice : méthodes de chaîne.\n",
        "- Attendu : “BonJour” → bonjour"
      ],
      "metadata": {
        "id": "vNaLlED3smNs"
      }
    },
    {
      "cell_type": "code",
      "source": [
        "Mot = input('Mot:')\n",
        "print(Mot.lower())"
      ],
      "metadata": {
        "colab": {
          "base_uri": "https://localhost:8080/"
        },
        "id": "PleQpWU0ssU0",
        "outputId": "b5a1f010-7dcb-43f0-ef1d-e248945f1885"
      },
      "execution_count": 3,
      "outputs": [
        {
          "output_type": "stream",
          "name": "stdout",
          "text": [
            "Mot:MATHEUS\n",
            "matheus\n"
          ]
        }
      ]
    },
    {
      "cell_type": "markdown",
      "source": [
        "#17) Remplacer un caractère\n",
        "- Objectif : remplacer “a” par “@”.\n",
        "- Étapes : s=input(...); print(s.replace(\"a\",\"@\")).\n",
        "- Indice : .replace(ancien, nouveau).\n",
        "- Attendu : “salade” → s@l@de"
      ],
      "metadata": {
        "id": "9owlNYCPs_oE"
      }
    },
    {
      "cell_type": "code",
      "source": [
        "Mot = input('Nom:')\n",
        "print(Mot.replace('a','4'))\n"
      ],
      "metadata": {
        "colab": {
          "base_uri": "https://localhost:8080/"
        },
        "id": "61lk2zYRtDR8",
        "outputId": "3f348a82-f611-4a5e-8334-062432512784"
      },
      "execution_count": 9,
      "outputs": [
        {
          "output_type": "stream",
          "name": "stdout",
          "text": [
            "Nom:Matheus\n",
            "M4theus\n"
          ]
        }
      ]
    },
    {
      "cell_type": "markdown",
      "source": [
        "#18) Extraire première lettre\n",
        "- Objectif : afficher la première lettre d’un mot.\n",
        "- Étapes : mot=input(...); print(mot[0]).\n",
        "- Indice : indices commencent à 0.\n",
        "- Attendu : “Python” → P"
      ],
      "metadata": {
        "id": "aVcyomCm7gd5"
      }
    },
    {
      "cell_type": "code",
      "source": [
        "Mot = input('Mot: ')\n",
        "print(Mot[5])"
      ],
      "metadata": {
        "colab": {
          "base_uri": "https://localhost:8080/"
        },
        "id": "T4VT9hh77l25",
        "outputId": "05fb3dfe-d6f1-41ae-961e-38e315b70e50"
      },
      "execution_count": 12,
      "outputs": [
        {
          "output_type": "stream",
          "name": "stdout",
          "text": [
            "Mot: Matheus\n",
            "u\n"
          ]
        }
      ]
    },
    {
      "cell_type": "markdown",
      "source": [
        "#19) Dernière lettre\n",
        "- Objectif : afficher la dernière lettre.\n",
        "- Étapes : print(mot[-1]).\n",
        "- Indice : -1 = dernier.\n",
        "- Attendu : “chat” → t"
      ],
      "metadata": {
        "id": "uPZMiXpU76dR"
      }
    },
    {
      "cell_type": "code",
      "source": [
        "Mot = input('mot: ')\n",
        "print(Mot[-1])"
      ],
      "metadata": {
        "colab": {
          "base_uri": "https://localhost:8080/"
        },
        "id": "_VH6yQkP79uh",
        "outputId": "9e82bb0c-fca3-45b4-a752-223447b595ef"
      },
      "execution_count": 14,
      "outputs": [
        {
          "output_type": "stream",
          "name": "stdout",
          "text": [
            "mot: Matheus\n",
            "s\n"
          ]
        }
      ]
    },
    {
      "cell_type": "markdown",
      "source": [
        "#20) Échanger prénom/nom\n",
        "- Objectif : lire prénom et nom, afficher “Nom Prénom”.\n",
        "- Étapes : deux input; print(nom, prenom).\n",
        "- Indice : l’ordre compte.\n",
        "- Attendu : Dupont Sara"
      ],
      "metadata": {
        "id": "MwP_oayt8Z1I"
      }
    },
    {
      "cell_type": "code",
      "source": [
        "Nom= input('Nom: ')\n",
        "Prenom= input('Prenom: ')\n",
        "print(Nom, Prenom)"
      ],
      "metadata": {
        "colab": {
          "base_uri": "https://localhost:8080/"
        },
        "id": "n0DwMGT58eyB",
        "outputId": "eede4d6f-76db-4d92-aa27-fe6b53805981"
      },
      "execution_count": 18,
      "outputs": [
        {
          "output_type": "stream",
          "name": "stdout",
          "text": [
            "Nom: Matheus\n",
            "Prenom: Amarilo de Oliveira\n",
            "Matheus Amarilo de Oliveira\n"
          ]
        }
      ]
    },
    {
      "cell_type": "markdown",
      "source": [
        "#21) Pair ou impair (if)\n",
        "- Objectif : dire si un nombre est pair.\n",
        "- Étapes : n=int(input(...)); if n%2==0: ... else: ...\n",
        "- Indice : % est le reste.\n",
        "- Attendu : 6 → “pair”\n"
      ],
      "metadata": {
        "id": "08EgBrMr9W9h"
      }
    },
    {
      "cell_type": "code",
      "source": [
        "N = int(input('Nombre: '))\n",
        "if N%2==0:\n",
        "  print('Pair')\n",
        "else:\n",
        "    print('Impar')\n"
      ],
      "metadata": {
        "colab": {
          "base_uri": "https://localhost:8080/"
        },
        "id": "DjZ7GHWK9dwI",
        "outputId": "eee13cae-e9b7-4164-bead-166118ffbc1c"
      },
      "execution_count": 23,
      "outputs": [
        {
          "output_type": "stream",
          "name": "stdout",
          "text": [
            "Nombre: 13\n",
            "Impar\n"
          ]
        }
      ]
    },
    {
      "cell_type": "markdown",
      "source": [
        "#22) Positif, négatif ou zéro\n",
        "- Objectif : classer un nombre.\n",
        "- Étapes : if n>0, elif n<0, else.\n",
        "- Indice : conditions en chaîne.\n",
        "- Attendu : -3 → “négatif”"
      ],
      "metadata": {
        "id": "QnTf94qA-9nY"
      }
    },
    {
      "cell_type": "code",
      "source": [
        "N = int(input('Nombre:'))\n",
        "if N>0:\n",
        "  print('Positif')\n",
        "elif N<0:\n",
        "    print('Negatif')\n",
        "else:\n",
        "      print('Neutre')"
      ],
      "metadata": {
        "colab": {
          "base_uri": "https://localhost:8080/"
        },
        "id": "LSx4lcjfBnYY",
        "outputId": "37eb9f1c-fb4c-45bc-afc2-1a82327c235a"
      },
      "execution_count": 35,
      "outputs": [
        {
          "output_type": "stream",
          "name": "stdout",
          "text": [
            "Nombre:860934802\n",
            "Positif\n"
          ]
        }
      ]
    }
  ]
}