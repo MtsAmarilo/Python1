{
  "nbformat": 4,
  "nbformat_minor": 0,
  "metadata": {
    "colab": {
      "provenance": [],
      "authorship_tag": "ABX9TyMUE0Caj8MBPSRegMNSj0GF",
      "include_colab_link": true
    },
    "kernelspec": {
      "name": "python3",
      "display_name": "Python 3"
    },
    "language_info": {
      "name": "python"
    }
  },
  "cells": [
    {
      "cell_type": "markdown",
      "metadata": {
        "id": "view-in-github",
        "colab_type": "text"
      },
      "source": [
        "<a href=\"https://colab.research.google.com/github/MtsAmarilo/Python1/blob/main/2_1_Les_commentaires_en_python.ipynb\" target=\"_parent\"><img src=\"https://colab.research.google.com/assets/colab-badge.svg\" alt=\"Open In Colab\"/></a>"
      ]
    },
    {
      "cell_type": "markdown",
      "source": [
        "#Les Commentaires en Python"
      ],
      "metadata": {
        "id": "6rnTwC66gqbx"
      }
    },
    {
      "cell_type": "code",
      "source": [
        "# Ceci est un commentaire\n",
        " # Ce commentaire explique l'instruction print\n",
        "print(\"Hello, World!\")"
      ],
      "metadata": {
        "colab": {
          "base_uri": "https://localhost:8080/"
        },
        "id": "lRY5gJiBgs25",
        "outputId": "51a72e35-3611-41be-edf8-78a0ac82784c"
      },
      "execution_count": 2,
      "outputs": [
        {
          "output_type": "stream",
          "name": "stdout",
          "text": [
            "Hello, World!\n"
          ]
        }
      ]
    },
    {
      "cell_type": "markdown",
      "source": [
        "#les commentaires multi-lignes - Module 1"
      ],
      "metadata": {
        "id": "CkHHkvZrhBv6"
      }
    },
    {
      "cell_type": "code",
      "source": [
        "\"\"\"\n",
        "Ce texte n'est pas un commentaire officiel,\n",
        "mais peut être utilisé pour documenter du code.\n",
        "\"\"\"\n",
        "print(\"Bonjour, Python !\")"
      ],
      "metadata": {
        "colab": {
          "base_uri": "https://localhost:8080/"
        },
        "id": "O4EC4N_mhDs5",
        "outputId": "38b77aea-eb70-48a3-a69d-5ef8017a0dd6"
      },
      "execution_count": 3,
      "outputs": [
        {
          "output_type": "stream",
          "name": "stdout",
          "text": [
            "Bonjour, Python !\n"
          ]
        }
      ]
    },
    {
      "cell_type": "markdown",
      "source": [
        "#les commentaires multi-lignes - Module 2"
      ],
      "metadata": {
        "id": "15h9auoYhH_h"
      }
    },
    {
      "cell_type": "code",
      "source": [
        "# Ligne 1 de commentaire\n",
        "# Ligne 2 de commentaire\n",
        "# Ligne 3 de commentaire\n"
      ],
      "metadata": {
        "id": "dcQqrlzQhVIh"
      },
      "execution_count": null,
      "outputs": []
    }
  ]
}