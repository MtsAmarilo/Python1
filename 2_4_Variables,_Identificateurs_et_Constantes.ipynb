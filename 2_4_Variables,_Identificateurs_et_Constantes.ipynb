{
  "nbformat": 4,
  "nbformat_minor": 0,
  "metadata": {
    "colab": {
      "provenance": [],
      "authorship_tag": "ABX9TyOlAZGm4IWZB35TtQeIFUUu",
      "include_colab_link": true
    },
    "kernelspec": {
      "name": "python3",
      "display_name": "Python 3"
    },
    "language_info": {
      "name": "python"
    }
  },
  "cells": [
    {
      "cell_type": "markdown",
      "metadata": {
        "id": "view-in-github",
        "colab_type": "text"
      },
      "source": [
        "<a href=\"https://colab.research.google.com/github/MtsAmarilo/Python1/blob/main/2_4_Variables%2C_Identificateurs_et_Constantes.ipynb\" target=\"_parent\"><img src=\"https://colab.research.google.com/assets/colab-badge.svg\" alt=\"Open In Colab\"/></a>"
      ]
    },
    {
      "cell_type": "markdown",
      "source": [
        "#Variables, Identificateurs et Constantes"
      ],
      "metadata": {
        "id": "1g9j5Vwflaqd"
      }
    },
    {
      "cell_type": "code",
      "source": [
        "sum = 1\n",
        "average = 1.23\n",
        "msg = \"Hello\"\n",
        "\n",
        "print(sum)\n",
        "print(average)\n",
        "print(msg)\n",
        "\n",
        "print(type(sum))      # <class 'int'>\n",
        "print(type(average))  # <class 'float'>\n",
        "print(type(msg))      # <class 'str'>"
      ],
      "metadata": {
        "colab": {
          "base_uri": "https://localhost:8080/"
        },
        "id": "6gXMUx3WljJ1",
        "outputId": "14fdc406-1958-481b-af85-852effd52bff"
      },
      "execution_count": 2,
      "outputs": [
        {
          "output_type": "stream",
          "name": "stdout",
          "text": [
            "1\n",
            "1.23\n",
            "Hello\n",
            "<class 'int'>\n",
            "<class 'float'>\n",
            "<class 'str'>\n"
          ]
        }
      ]
    }
  ]
}